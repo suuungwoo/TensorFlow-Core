{
  "nbformat": 4,
  "nbformat_minor": 0,
  "metadata": {
    "kernelspec": {
      "display_name": "Python 3",
      "language": "python",
      "name": "python3"
    },
    "language_info": {
      "codemirror_mode": {
        "name": "ipython",
        "version": 3
      },
      "file_extension": ".py",
      "mimetype": "text/x-python",
      "name": "python",
      "nbconvert_exporter": "python",
      "pygments_lexer": "ipython3",
      "version": "3.7.3"
    },
    "colab": {
      "name": "tensors-and-operations.ipynb",
      "provenance": [],
      "include_colab_link": true
    }
  },
  "cells": [
    {
      "cell_type": "markdown",
      "metadata": {
        "id": "view-in-github",
        "colab_type": "text"
      },
      "source": [
        "<a href=\"https://colab.research.google.com/github/suuungwoo/TensorFlow-Core/blob/master/tensors_and_operations.ipynb\" target=\"_parent\"><img src=\"https://colab.research.google.com/assets/colab-badge.svg\" alt=\"Open In Colab\"/></a>"
      ]
    },
    {
      "cell_type": "markdown",
      "metadata": {
        "id": "zEvxruW6j_gH",
        "colab_type": "text"
      },
      "source": [
        "# [テンソルと演算](https://www.tensorflow.org/tutorials/customization/basics?hl=ja)"
      ]
    },
    {
      "cell_type": "code",
      "metadata": {
        "id": "qT1ItJ3mj_gL",
        "colab_type": "code",
        "colab": {},
        "outputId": "7127ceb4-65a7-447f-d699-0e6751af2176"
      },
      "source": [
        "import tensorflow as tf\n",
        "tf.__version__"
      ],
      "execution_count": 0,
      "outputs": [
        {
          "output_type": "execute_result",
          "data": {
            "text/plain": [
              "'2.0.0'"
            ]
          },
          "metadata": {
            "tags": []
          },
          "execution_count": 1
        }
      ]
    },
    {
      "cell_type": "markdown",
      "metadata": {
        "id": "mucA1TiIj_gT",
        "colab_type": "text"
      },
      "source": [
        "# テンソル"
      ]
    },
    {
      "cell_type": "code",
      "metadata": {
        "id": "8_hcQhgZj_gU",
        "colab_type": "code",
        "colab": {},
        "outputId": "24958bb5-cb5e-43e3-f25f-528fe67bb406"
      },
      "source": [
        "print(tf.add(1,2))\n",
        "print(tf.add([1,2],[3,4]))\n",
        "print(tf.square(5))\n",
        "print(tf.reduce_sum([1,2,3]))\n",
        "\n",
        "print(tf.square(2)+tf.square(3))"
      ],
      "execution_count": 0,
      "outputs": [
        {
          "output_type": "stream",
          "text": [
            "tf.Tensor(3, shape=(), dtype=int32)\n",
            "tf.Tensor([4 6], shape=(2,), dtype=int32)\n",
            "tf.Tensor(25, shape=(), dtype=int32)\n",
            "tf.Tensor(6, shape=(), dtype=int32)\n",
            "tf.Tensor(13, shape=(), dtype=int32)\n"
          ],
          "name": "stdout"
        }
      ]
    },
    {
      "cell_type": "code",
      "metadata": {
        "id": "wmBZTmB_j_gW",
        "colab_type": "code",
        "colab": {},
        "outputId": "b439760e-b4c9-41ac-ab0f-b704661df789"
      },
      "source": [
        "x = tf.matmul([[1]], [[2,3]])\n",
        "print(x)\n",
        "print(x.shape)\n",
        "print(x.dtype)"
      ],
      "execution_count": 0,
      "outputs": [
        {
          "output_type": "stream",
          "text": [
            "tf.Tensor([[2 3]], shape=(1, 2), dtype=int32)\n",
            "(1, 2)\n",
            "<dtype: 'int32'>\n"
          ],
          "name": "stdout"
        }
      ]
    },
    {
      "cell_type": "code",
      "metadata": {
        "id": "fvkJja48j_ge",
        "colab_type": "code",
        "colab": {},
        "outputId": "e8e5ab5f-8e92-40cd-fb10-210b2eef8c04"
      },
      "source": [
        "import numpy as np\n",
        "\n",
        "ndarray = np.ones([3,3])\n",
        "\n",
        "print(\"TensorFlow演算によりnumpy配列は自動的にテンソルに変換される\")\n",
        "tensor = tf.multiply(ndarray, 42)\n",
        "print(tensor)\n",
        "\n",
        "print(\"またNumPy演算によりテンソルは自動的にnumpy配列に変換される\")\n",
        "print(np.add(tensor, 1))\n",
        "\n",
        "print(\".numpy()メソッドによりテンソルは明示的にnumpy配列に変換される\")\n",
        "print(tensor.numpy())"
      ],
      "execution_count": 0,
      "outputs": [
        {
          "output_type": "stream",
          "text": [
            "TensorFlow演算によりnumpy配列は自動的にテンソルに変換される\n",
            "tf.Tensor(\n",
            "[[42. 42. 42.]\n",
            " [42. 42. 42.]\n",
            " [42. 42. 42.]], shape=(3, 3), dtype=float64)\n",
            "またNumPy演算によりテンソルは自動的にnumpy配列に変換される\n",
            "[[43. 43. 43.]\n",
            " [43. 43. 43.]\n",
            " [43. 43. 43.]]\n",
            ".numpy()メソッドによりテンソルは明示的にnumpy配列に変換される\n",
            "[[42. 42. 42.]\n",
            " [42. 42. 42.]\n",
            " [42. 42. 42.]]\n"
          ],
          "name": "stdout"
        }
      ]
    },
    {
      "cell_type": "markdown",
      "metadata": {
        "id": "NFOd2927j_gj",
        "colab_type": "text"
      },
      "source": [
        "# GPUによる高速化"
      ]
    },
    {
      "cell_type": "code",
      "metadata": {
        "id": "4-Z8OPpjj_gk",
        "colab_type": "code",
        "colab": {},
        "outputId": "8605b13e-731e-4c13-ebb3-875f4a29c309"
      },
      "source": [
        "x = tf.random.uniform([3,3])\n",
        "\n",
        "print(\"利用できるGPUはあるか: \"),\n",
        "print(tf.config.experimental.list_physical_devices(\"GPU\"))\n",
        "\n",
        "print(\"テンソルはGPU #0にあるか:  \"),\n",
        "print(x.device.endswith('GPU:0'))"
      ],
      "execution_count": 0,
      "outputs": [
        {
          "output_type": "stream",
          "text": [
            "利用できるGPUはあるか: \n",
            "[]\n",
            "テンソルはGPU #0にあるか:  \n",
            "False\n"
          ],
          "name": "stdout"
        }
      ]
    },
    {
      "cell_type": "code",
      "metadata": {
        "id": "EHC9MJzDj_gm",
        "colab_type": "code",
        "colab": {},
        "outputId": "4fec9c89-68c2-4251-de98-cdd0dbb7b188"
      },
      "source": [
        "import time\n",
        "\n",
        "def time_matmul(x):\n",
        "  start = time.time()\n",
        "  for loop in range(10):\n",
        "    tf.matmul(x, x)\n",
        "\n",
        "  result = time.time()-start\n",
        "    \n",
        "  print(\"10 loops: {:0.2f}ms\".format(1000*result))\n",
        "\n",
        "# CPUでの実行を強制\n",
        "print(\"On CPU:\")\n",
        "with tf.device(\"CPU:0\"):\n",
        "  x = tf.random.uniform([1000, 1000])\n",
        "  assert x.device.endswith(\"CPU:0\")\n",
        "  time_matmul(x)\n",
        "\n",
        "# GPU #0があればその上での実行を強制\n",
        "if tf.config.experimental.list_physical_devices(\"GPU\"):\n",
        "  print(\"On GPU:\")\n",
        "  with tf.device(\"GPU:0\"): # 2番めのGPUなら GPU:1, 3番目なら GPU:2 など\n",
        "    x = tf.random.uniform([1000, 1000])\n",
        "    assert x.device.endswith(\"GPU:0\")\n",
        "    time_matmul(x)"
      ],
      "execution_count": 0,
      "outputs": [
        {
          "output_type": "stream",
          "text": [
            "On CPU:\n",
            "10 loops: 286.13ms\n"
          ],
          "name": "stdout"
        }
      ]
    },
    {
      "cell_type": "markdown",
      "metadata": {
        "id": "kCyFkWmlj_gp",
        "colab_type": "text"
      },
      "source": [
        "# データセット"
      ]
    },
    {
      "cell_type": "code",
      "metadata": {
        "id": "Cs2Vc9-Hj_gr",
        "colab_type": "code",
        "colab": {}
      },
      "source": [
        "ds_tensors = tf.data.Dataset.from_tensor_slices([1,2,3,4,5,6])\n",
        "\n",
        "import tempfile\n",
        "_, filename = tempfile.mkstemp()\n",
        "\n",
        "with open(filename, 'w') as f:\n",
        "    f.write(\"\"\"Line1\n",
        "    Line2\n",
        "    Line3\n",
        "    \"\"\")\n",
        "\n",
        "ds_file = tf.data.TextLineDataset(filename)"
      ],
      "execution_count": 0,
      "outputs": []
    },
    {
      "cell_type": "code",
      "metadata": {
        "id": "TrIOGsJUj_gt",
        "colab_type": "code",
        "colab": {}
      },
      "source": [
        "ds_tensors = ds_tensors.map(tf.square).shuffle(2).batch(2)\n",
        "ds_file = ds_file.batch(2)"
      ],
      "execution_count": 0,
      "outputs": []
    },
    {
      "cell_type": "code",
      "metadata": {
        "id": "CK_AfOTDj_gv",
        "colab_type": "code",
        "colab": {},
        "outputId": "0678364d-108b-4c66-8a8a-6d17953f3bc9"
      },
      "source": [
        "for x in ds_tensors:\n",
        "    print(x)\n",
        "    \n",
        "for x in ds_file:\n",
        "    print(x)"
      ],
      "execution_count": 0,
      "outputs": [
        {
          "output_type": "stream",
          "text": [
            "tf.Tensor([4 1], shape=(2,), dtype=int32)\n",
            "tf.Tensor([ 9 16], shape=(2,), dtype=int32)\n",
            "tf.Tensor([25 36], shape=(2,), dtype=int32)\n",
            "tf.Tensor([b'Line1' b'    Line2'], shape=(2,), dtype=string)\n",
            "tf.Tensor([b'    Line3' b'    '], shape=(2,), dtype=string)\n"
          ],
          "name": "stdout"
        }
      ]
    },
    {
      "cell_type": "code",
      "metadata": {
        "id": "13mMrVgRj_gz",
        "colab_type": "code",
        "colab": {}
      },
      "source": [
        ""
      ],
      "execution_count": 0,
      "outputs": []
    }
  ]
}