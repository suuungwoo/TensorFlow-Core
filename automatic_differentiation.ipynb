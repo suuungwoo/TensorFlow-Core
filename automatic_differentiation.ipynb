{
  "nbformat": 4,
  "nbformat_minor": 0,
  "metadata": {
    "kernelspec": {
      "display_name": "Python 3",
      "language": "python",
      "name": "python3"
    },
    "language_info": {
      "codemirror_mode": {
        "name": "ipython",
        "version": 3
      },
      "file_extension": ".py",
      "mimetype": "text/x-python",
      "name": "python",
      "nbconvert_exporter": "python",
      "pygments_lexer": "ipython3",
      "version": "3.7.3"
    },
    "colab": {
      "name": "automatic-differentiation.ipynb",
      "provenance": [],
      "include_colab_link": true
    }
  },
  "cells": [
    {
      "cell_type": "markdown",
      "metadata": {
        "id": "view-in-github",
        "colab_type": "text"
      },
      "source": [
        "<a href=\"https://colab.research.google.com/github/suuungwoo/TensorFlow-Core/blob/master/automatic_differentiation.ipynb\" target=\"_parent\"><img src=\"https://colab.research.google.com/assets/colab-badge.svg\" alt=\"Open In Colab\"/></a>"
      ]
    },
    {
      "cell_type": "markdown",
      "metadata": {
        "id": "obfMkgUIkREf",
        "colab_type": "text"
      },
      "source": [
        "# [自動微分と勾配テープ](https://www.tensorflow.org/tutorials/customization/autodiff?hl=ja)"
      ]
    },
    {
      "cell_type": "code",
      "metadata": {
        "id": "W2RrBHwtkREn",
        "colab_type": "code",
        "colab": {}
      },
      "source": [
        "import tensorflow as tf"
      ],
      "execution_count": 0,
      "outputs": []
    },
    {
      "cell_type": "markdown",
      "metadata": {
        "id": "l-D6AwVukREs",
        "colab_type": "text"
      },
      "source": [
        "# 勾配テープ"
      ]
    },
    {
      "cell_type": "code",
      "metadata": {
        "id": "e4C3GM02kREt",
        "colab_type": "code",
        "colab": {}
      },
      "source": [
        "x = tf.ones((2,2))\n",
        "\n",
        "with tf.GradientTape() as t:\n",
        "    t.watch(x)\n",
        "    y = tf.reduce_sum(x)\n",
        "    z = tf.multiply(y, y)\n",
        "    \n",
        "dz_dx = t.gradient(z, x)\n",
        "for i in [0,1]:\n",
        "    for j in [0,1]:\n",
        "        assert dz_dx[i][j].numpy() == 8.0"
      ],
      "execution_count": 0,
      "outputs": []
    },
    {
      "cell_type": "markdown",
      "metadata": {
        "id": "DxI95oUZkRE0",
        "colab_type": "text"
      },
      "source": [
        "デフォルトではGradientTape.gradient()は1回しか呼び出せない"
      ]
    },
    {
      "cell_type": "code",
      "metadata": {
        "id": "vEU6NJxxkRE1",
        "colab_type": "code",
        "colab": {}
      },
      "source": [
        "x = tf.constant(3.0)\n",
        "with tf.GradientTape(persistent=True) as t:\n",
        "    t.watch(x)\n",
        "    y = x * x\n",
        "    z = y * y\n",
        "dz_dx = t.gradient(z, x)\n",
        "dz_dy = t.gradient(y, x)\n",
        "del t"
      ],
      "execution_count": 0,
      "outputs": []
    },
    {
      "cell_type": "markdown",
      "metadata": {
        "id": "BbrIDxikkRE4",
        "colab_type": "text"
      },
      "source": [
        "## 制御フローの記録"
      ]
    },
    {
      "cell_type": "code",
      "metadata": {
        "id": "asVI4LrGkRE5",
        "colab_type": "code",
        "colab": {}
      },
      "source": [
        "def f(x, y):\n",
        "    output = 1.0\n",
        "    for i in range(y):\n",
        "        if i > 1 and i < 5:\n",
        "            output = tf.multiply(output, x)\n",
        "    return output\n",
        "\n",
        "def grad(x, y):\n",
        "    with tf.GradientTape() as t:\n",
        "        t.watch(x)\n",
        "        out = f(x, y)\n",
        "    return t.gradient(out, x)\n",
        " \n",
        "x = tf.convert_to_tensor(2.0)\n",
        "\n",
        "assert grad(x, 6).numpy() == 12.0\n",
        "assert grad(x, 5).numpy() == 12.0\n",
        "assert grad(x, 4).numpy() == 4.0"
      ],
      "execution_count": 0,
      "outputs": []
    },
    {
      "cell_type": "markdown",
      "metadata": {
        "id": "twelz3jzkRFB",
        "colab_type": "text"
      },
      "source": [
        "## 高次勾配"
      ]
    },
    {
      "cell_type": "code",
      "metadata": {
        "id": "ws7EkGFRkRFC",
        "colab_type": "code",
        "colab": {}
      },
      "source": [
        "x = tf.Variable(1.0)\n",
        "\n",
        "with tf.GradientTape() as t:\n",
        "    with tf.GradientTape() as t2:\n",
        "        y = x * x * x\n",
        "    dy_dx = t2.gradient(y, x)\n",
        "d2y_dx2 = t.gradient(dy_dx, x)\n",
        "\n",
        "assert dy_dx.numpy() == 3.0\n",
        "assert d2y_dx2.numpy() == 6.0"
      ],
      "execution_count": 0,
      "outputs": []
    },
    {
      "cell_type": "code",
      "metadata": {
        "id": "Exo9VaVzkRFM",
        "colab_type": "code",
        "colab": {}
      },
      "source": [
        ""
      ],
      "execution_count": 0,
      "outputs": []
    }
  ]
}