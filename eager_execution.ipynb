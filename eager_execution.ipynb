{
  "nbformat": 4,
  "nbformat_minor": 0,
  "metadata": {
    "kernelspec": {
      "display_name": "Python 3",
      "language": "python",
      "name": "python3"
    },
    "language_info": {
      "codemirror_mode": {
        "name": "ipython",
        "version": 3
      },
      "file_extension": ".py",
      "mimetype": "text/x-python",
      "name": "python",
      "nbconvert_exporter": "python",
      "pygments_lexer": "ipython3",
      "version": "3.7.3"
    },
    "colab": {
      "name": "eager-execution.ipynb",
      "provenance": [],
      "include_colab_link": true
    }
  },
  "cells": [
    {
      "cell_type": "markdown",
      "metadata": {
        "id": "view-in-github",
        "colab_type": "text"
      },
      "source": [
        "<a href=\"https://colab.research.google.com/github/suuungwoo/TensorFlow-Core/blob/master/eager_execution.ipynb\" target=\"_parent\"><img src=\"https://colab.research.google.com/assets/colab-badge.svg\" alt=\"Open In Colab\"/></a>"
      ]
    },
    {
      "cell_type": "markdown",
      "metadata": {
        "id": "z2sWu6UZkVXE",
        "colab_type": "text"
      },
      "source": [
        "# [Eager Execution の基本](https://www.tensorflow.org/guide/eager?hl=ja)"
      ]
    },
    {
      "cell_type": "code",
      "metadata": {
        "id": "IIngG1cwkVXF",
        "colab_type": "code",
        "colab": {}
      },
      "source": [
        "import tensorflow as tf"
      ],
      "execution_count": 0,
      "outputs": []
    },
    {
      "cell_type": "code",
      "metadata": {
        "id": "qqw6M7oAkVXI",
        "colab_type": "code",
        "colab": {},
        "outputId": "1cc2499b-0ff6-437e-d8a1-bcf70ee1b71c"
      },
      "source": [
        "tf.executing_eagerly()"
      ],
      "execution_count": 0,
      "outputs": [
        {
          "output_type": "execute_result",
          "data": {
            "text/plain": [
              "True"
            ]
          },
          "metadata": {
            "tags": []
          },
          "execution_count": 2
        }
      ]
    },
    {
      "cell_type": "code",
      "metadata": {
        "id": "3zqmQhvYkVXL",
        "colab_type": "code",
        "colab": {},
        "outputId": "2aa6b341-c4e9-4f4d-bc99-f3f3c3dfd806"
      },
      "source": [
        "x = [[2.]]\n",
        "m = tf.matmul(x,x)\n",
        "print(\"hello, {}\".format(m))"
      ],
      "execution_count": 0,
      "outputs": [
        {
          "output_type": "stream",
          "text": [
            "hello, [[4.]]\n"
          ],
          "name": "stdout"
        }
      ]
    },
    {
      "cell_type": "code",
      "metadata": {
        "id": "ABHlbXSAkVXO",
        "colab_type": "code",
        "colab": {},
        "outputId": "ec9a0e71-1218-4dfc-c923-e7aff7a85be0"
      },
      "source": [
        "a = tf.constant([[1,2],[3,4]])\n",
        "print(a)"
      ],
      "execution_count": 0,
      "outputs": [
        {
          "output_type": "stream",
          "text": [
            "tf.Tensor(\n",
            "[[1 2]\n",
            " [3 4]], shape=(2, 2), dtype=int32)\n"
          ],
          "name": "stdout"
        }
      ]
    },
    {
      "cell_type": "markdown",
      "metadata": {
        "id": "AEy99GbHkVXQ",
        "colab_type": "text"
      },
      "source": [
        "# 動的な制御フロー"
      ]
    },
    {
      "cell_type": "code",
      "metadata": {
        "id": "_Ebj3Z8ckVXR",
        "colab_type": "code",
        "colab": {}
      },
      "source": [
        "def fizzbuzz(max_num):\n",
        "    counter = tf.constant(0)\n",
        "    max_num = tf.convert_to_tensor(max_num)\n",
        "    for num in range(1, max_num.numpy()+1):\n",
        "        num = tf.constant(num)\n",
        "        if int(num % 3) == 0 and int(num % 5) == 0:\n",
        "            print('FizzBuzz')\n",
        "        elif int(num % 3) == 0:\n",
        "            print('Fizz')\n",
        "        elif int(num % 5) == 0:\n",
        "            print('Buz')\n",
        "        else:\n",
        "            print(num.numpy())\n",
        "        counter += 1"
      ],
      "execution_count": 0,
      "outputs": []
    },
    {
      "cell_type": "code",
      "metadata": {
        "id": "vBYxjVTdkVXT",
        "colab_type": "code",
        "colab": {},
        "outputId": "3fd3c63d-76ae-48c1-c0da-c726968bb502"
      },
      "source": [
        "fizzbuzz(15)"
      ],
      "execution_count": 0,
      "outputs": [
        {
          "output_type": "stream",
          "text": [
            "1\n",
            "2\n",
            "Fizz\n",
            "4\n",
            "Buz\n",
            "Fizz\n",
            "7\n",
            "8\n",
            "Fizz\n",
            "Buz\n",
            "11\n",
            "Fizz\n",
            "13\n",
            "14\n",
            "FizzBuzz\n"
          ],
          "name": "stdout"
        }
      ]
    },
    {
      "cell_type": "markdown",
      "metadata": {
        "id": "ofgk6B-ekVXV",
        "colab_type": "text"
      },
      "source": [
        "# Eager Executionによる学習"
      ]
    },
    {
      "cell_type": "code",
      "metadata": {
        "id": "09d-FGXukVXW",
        "colab_type": "code",
        "colab": {},
        "outputId": "b7720c7a-0698-404d-93cb-55886bc09674"
      },
      "source": [
        "w = tf.Variable([[1.0]])\n",
        "with tf.GradientTape() as tape:\n",
        "    loss = w * w\n",
        "    \n",
        "grad = tape.gradient(loss, w)\n",
        "print(grad)"
      ],
      "execution_count": 0,
      "outputs": [
        {
          "output_type": "stream",
          "text": [
            "tf.Tensor([[2.]], shape=(1, 1), dtype=float32)\n"
          ],
          "name": "stdout"
        }
      ]
    },
    {
      "cell_type": "code",
      "metadata": {
        "id": "0kBguZSKkVXZ",
        "colab_type": "code",
        "colab": {}
      },
      "source": [
        "(mnist_images, mnist_labels), _ = tf.keras.datasets.mnist.load_data()\n",
        "\n",
        "dataset = tf.data.Dataset.from_tensor_slices(\n",
        "    (tf.cast(mnist_images[..., tf.newaxis]/255, tf.float32),\n",
        "    tf.cast(mnist_labels, tf.int64)))"
      ],
      "execution_count": 0,
      "outputs": []
    },
    {
      "cell_type": "code",
      "metadata": {
        "id": "Uoa303T9kVXb",
        "colab_type": "code",
        "colab": {}
      },
      "source": [
        "dataset = dataset.shuffle(1000).batch(32)"
      ],
      "execution_count": 0,
      "outputs": []
    },
    {
      "cell_type": "code",
      "metadata": {
        "id": "d91hejPUkVXd",
        "colab_type": "code",
        "colab": {}
      },
      "source": [
        "mnist_model = tf.keras.Sequential([\n",
        "    tf.keras.layers.Conv2D(16, [3,3], activation='relu', input_shape=(None, None, 1)),\n",
        "    tf.keras.layers.Conv2D(16, [3,3], activation='relu'),\n",
        "    tf.keras.layers.GlobalAveragePooling2D(),\n",
        "    tf.keras.layers.Dense(10)\n",
        "])"
      ],
      "execution_count": 0,
      "outputs": []
    },
    {
      "cell_type": "code",
      "metadata": {
        "id": "Xqv-7j8ikVXg",
        "colab_type": "code",
        "colab": {},
        "outputId": "04217436-11b7-45d3-afad-df717492a4b2"
      },
      "source": [
        "for images, labels in dataset.take(1):\n",
        "    print(\"Logits:\", mnist_model(images[0:1]).numpy())"
      ],
      "execution_count": 0,
      "outputs": [
        {
          "output_type": "stream",
          "text": [
            "Logits: [[ 0.0083715   0.00628064 -0.02502911 -0.01615733 -0.00340629  0.00803594\n",
            "   0.01283177  0.01418977  0.00503082  0.00062695]]\n"
          ],
          "name": "stdout"
        }
      ]
    },
    {
      "cell_type": "code",
      "metadata": {
        "id": "vpJF4g6-kVXi",
        "colab_type": "code",
        "colab": {}
      },
      "source": [
        "optimizer = tf.keras.optimizers.Adam()\n",
        "loss_object = tf.keras.losses.SparseCategoricalCrossentropy(from_logits=True)\n",
        "\n",
        "loss_history = []"
      ],
      "execution_count": 0,
      "outputs": []
    },
    {
      "cell_type": "code",
      "metadata": {
        "id": "F7NyygXLkVXl",
        "colab_type": "code",
        "colab": {}
      },
      "source": [
        "def train_step(images, labels):\n",
        "    with tf.GradientTape() as tape:\n",
        "        logits = mnist_model(images, training=True)\n",
        "        \n",
        "        tf.debugging.assert_equal(logits.shape, (32, 10))\n",
        "        \n",
        "        loss_value = loss_object(labels, logits)\n",
        "        \n",
        "    loss_history.append(loss_value.numpy().mean())\n",
        "    grads = tape.gradient(loss_value, mnist_model.trainable_variables)\n",
        "    optimizer.apply_gradients(zip(grads, mnist_model.trainable_variables))"
      ],
      "execution_count": 0,
      "outputs": []
    },
    {
      "cell_type": "code",
      "metadata": {
        "id": "BNrEvXxWkVXn",
        "colab_type": "code",
        "colab": {},
        "outputId": "4358d126-8bce-41e6-eefe-e0fe7f70f607"
      },
      "source": [
        "def train():\n",
        "    for epoch in range(3):\n",
        "        for (batch, (images, labels)) in enumerate(dataset):\n",
        "            train_step(images, labels)\n",
        "        print(\"Epoch {} finished\".format(epoch))\n",
        "            \n",
        "train()"
      ],
      "execution_count": 0,
      "outputs": [
        {
          "output_type": "stream",
          "text": [
            "Epoch 0 finished\n",
            "Epoch 1 finished\n",
            "Epoch 2 finished\n"
          ],
          "name": "stdout"
        }
      ]
    },
    {
      "cell_type": "code",
      "metadata": {
        "id": "dp0oVknYkVXp",
        "colab_type": "code",
        "colab": {},
        "outputId": "f5da94e8-ea75-40cc-bab8-131166d1696c"
      },
      "source": [
        "import matplotlib.pyplot as plt\n",
        "\n",
        "plt.plot(loss_history)\n",
        "plt.xlabel('Batch #')\n",
        "plt.ylabel('Loss [entropy]')\n",
        "plt.show()"
      ],
      "execution_count": 0,
      "outputs": [
        {
          "output_type": "display_data",
          "data": {
            "image/png": "[encoded data removed]",
            "text/plain": [
              "<Figure size 432x288 with 1 Axes>"
            ]
          },
          "metadata": {
            "tags": [],
            "needs_background": "light"
          }
        }
      ]
    },
    {
      "cell_type": "code",
      "metadata": {
        "id": "e0MwLlI_kVXs",
        "colab_type": "code",
        "colab": {},
        "outputId": "93e71a33-6dd6-4aaa-a196-8b3704159cba"
      },
      "source": [
        "class Model(tf.keras.Model):\n",
        "    def __init__(self):\n",
        "        super(Model, self).__init__()\n",
        "        self.W = tf.Variable(5., name='weight')\n",
        "        self.B = tf.Variable(10., name='bias')\n",
        "        \n",
        "    def call(self, inputs):\n",
        "        return inputs * self.W + self.B\n",
        "    \n",
        "NUM_EXAMPLES = 2000\n",
        "training_inputs = tf.random.normal([NUM_EXAMPLES])\n",
        "noise = tf.random.normal([NUM_EXAMPLES])\n",
        "training_outputs = training_inputs * 3 + 2 + noise\n",
        "\n",
        "def loss(model, inputs, targets):\n",
        "    error = model(inputs) - targets\n",
        "    return tf.reduce_mean(tf.square(error))\n",
        "\n",
        "def grad(model, inputs, targets):\n",
        "    with tf.GradientTape() as tape:\n",
        "        loss_value = loss(model, inputs, targets)\n",
        "    return tape.gradient(loss_value, [model.W, model.B])\n",
        "\n",
        "model = Model()\n",
        "optimizer = tf.keras.optimizers.SGD(learning_rate=0.01)\n",
        "\n",
        "print(\"Initial loss: {:.3f}\".format(loss(model, training_inputs, training_outputs)))\n",
        "\n",
        "for i in range(300):\n",
        "    grads = grad(model, training_inputs, training_outputs)\n",
        "    optimizer.apply_gradients(zip(grads, [model.W, model.B]))\n",
        "    if i % 20 == 0:\n",
        "        print(\"Loss at step {:03d}: {:.3f}\".format(i, loss(model, training_inputs, training_outputs)))\n",
        "        \n",
        "print(\"Final loss: {:.3f}\".format(loss(model, training_inputs, training_outputs)))\n",
        "print(\"W = {}, B = {}\".format(model.W.numpy(), model.B.numpy()))"
      ],
      "execution_count": 0,
      "outputs": [
        {
          "output_type": "stream",
          "text": [
            "Initial loss: 68.617\n",
            "Loss at step 000: 65.946\n",
            "Loss at step 020: 29.990\n",
            "Loss at step 040: 13.917\n",
            "Loss at step 060: 6.733\n",
            "Loss at step 080: 3.521\n",
            "Loss at step 100: 2.085\n",
            "Loss at step 120: 1.443\n",
            "Loss at step 140: 1.156\n",
            "Loss at step 160: 1.028\n",
            "Loss at step 180: 0.971\n",
            "Loss at step 200: 0.945\n",
            "Loss at step 220: 0.934\n",
            "Loss at step 240: 0.929\n",
            "Loss at step 260: 0.926\n",
            "Loss at step 280: 0.925\n",
            "Final loss: 0.925\n",
            "W = 3.0281543731689453, B = 2.0171244144439697\n"
          ],
          "name": "stdout"
        }
      ]
    },
    {
      "cell_type": "code",
      "metadata": {
        "id": "pJJqo1kikVXx",
        "colab_type": "code",
        "colab": {}
      },
      "source": [
        ""
      ],
      "execution_count": 0,
      "outputs": []
    }
  ]
}